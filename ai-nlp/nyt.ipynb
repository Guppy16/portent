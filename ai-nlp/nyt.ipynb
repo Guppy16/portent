{
 "cells": [
  {
   "cell_type": "code",
   "execution_count": 21,
   "metadata": {},
   "outputs": [],
   "source": [
    "import requests\n",
    "import json\n",
    "from itertools import product\n",
    "from tqdm import tqdm"
   ]
  },
  {
   "cell_type": "code",
   "execution_count": null,
   "metadata": {},
   "outputs": [
    {
     "name": "stdout",
     "output_type": "stream",
     "text": [
      "Error with 2025/10 request\n"
     ]
    }
   ],
   "source": [
    "NYT_API_KEY = \"TODO\"\n",
    "\n",
    "def get_article_data(year: str, month: str):\n",
    "    url = \"https://api.nytimes.com/svc/archive/v1/{year}/{month}.json?api-key={NYT_API_KEY}\"\n",
    "    response = requests.get(url.format(year=year, month=month, NYT_API_KEY=NYT_API_KEY))\n",
    "\n",
    "    if response.status_code != 200:\n",
    "        print(f\"Error with {year}/{month} request\")\n",
    "        return None\n",
    "    \n",
    "    # Cache the news by saving it in \"./cache/{year}-{month}.json\"\n",
    "    with open(f\"./cache/{year}-{month}.json\", \"w\") as f:\n",
    "        json.dump(response.json(), f)\n",
    "\n",
    "    data = response.json()\n",
    "    data = data['response']['docs']\n",
    "\n",
    "    data = [\n",
    "        {\n",
    "            \"abstract\": article['abstract'],\n",
    "            \"web_url\": article['web_url'],\n",
    "            \"snippet\": article['snippet'],\n",
    "            \"lead_paragraph\": article['lead_paragraph'],\n",
    "            \"main_headline\": article['headline']['main'],\n",
    "            \"print_headline\": article['headline']['print_headline'],\n",
    "            \"keywords\": [keyword['value'] for keyword in article['keywords']],\n",
    "            \"pub_date\": article['pub_date'],\n",
    "        }\n",
    "        for article in data\n",
    "    ]\n",
    "\n",
    "    # Save the data in \"./news/{year}-{month}.json\"\n",
    "    with open(f\"./news/{year}-{month}.json\", \"w\") as f:\n",
    "        json.dump(data, f)\n",
    "\n",
    "# get_article_data(\"2020\", \"1\")\n",
    "get_article_data(\"2025\", \"10\")"
   ]
  },
  {
   "cell_type": "code",
   "execution_count": 27,
   "metadata": {},
   "outputs": [
    {
     "name": "stderr",
     "output_type": "stream",
     "text": [
      " 91%|█████████ | 87/96 [1:04:24<03:38, 24.29s/it]"
     ]
    },
    {
     "name": "stdout",
     "output_type": "stream",
     "text": [
      "Error with 2025/3 request\n"
     ]
    },
    {
     "name": "stderr",
     "output_type": "stream",
     "text": [
      " 92%|█████████▏| 88/96 [1:04:24<02:17, 17.13s/it]"
     ]
    },
    {
     "name": "stdout",
     "output_type": "stream",
     "text": [
      "Error with 2025/4 request\n"
     ]
    },
    {
     "name": "stderr",
     "output_type": "stream",
     "text": [
      " 93%|█████████▎| 89/96 [1:04:25<01:24, 12.11s/it]"
     ]
    },
    {
     "name": "stdout",
     "output_type": "stream",
     "text": [
      "Error with 2025/5 request\n"
     ]
    },
    {
     "name": "stderr",
     "output_type": "stream",
     "text": [
      " 94%|█████████▍| 90/96 [1:04:25<00:51,  8.60s/it]"
     ]
    },
    {
     "name": "stdout",
     "output_type": "stream",
     "text": [
      "Error with 2025/6 request\n"
     ]
    },
    {
     "name": "stderr",
     "output_type": "stream",
     "text": [
      " 95%|█████████▍| 91/96 [1:04:26<00:30,  6.17s/it]"
     ]
    },
    {
     "name": "stdout",
     "output_type": "stream",
     "text": [
      "Error with 2025/7 request\n"
     ]
    },
    {
     "name": "stderr",
     "output_type": "stream",
     "text": [
      " 96%|█████████▌| 92/96 [1:04:26<00:17,  4.47s/it]"
     ]
    },
    {
     "name": "stdout",
     "output_type": "stream",
     "text": [
      "Error with 2025/8 request\n"
     ]
    },
    {
     "name": "stderr",
     "output_type": "stream",
     "text": [
      " 97%|█████████▋| 93/96 [1:04:27<00:09,  3.28s/it]"
     ]
    },
    {
     "name": "stdout",
     "output_type": "stream",
     "text": [
      "Error with 2025/9 request\n"
     ]
    },
    {
     "name": "stderr",
     "output_type": "stream",
     "text": [
      " 98%|█████████▊| 94/96 [1:04:27<00:04,  2.43s/it]"
     ]
    },
    {
     "name": "stdout",
     "output_type": "stream",
     "text": [
      "Error with 2025/10 request\n"
     ]
    },
    {
     "name": "stderr",
     "output_type": "stream",
     "text": [
      " 99%|█████████▉| 95/96 [1:04:28<00:01,  1.86s/it]"
     ]
    },
    {
     "name": "stdout",
     "output_type": "stream",
     "text": [
      "Error with 2025/11 request\n"
     ]
    },
    {
     "name": "stderr",
     "output_type": "stream",
     "text": [
      "100%|██████████| 96/96 [1:04:28<00:00, 40.30s/it]"
     ]
    },
    {
     "name": "stdout",
     "output_type": "stream",
     "text": [
      "Error with 2025/12 request\n"
     ]
    },
    {
     "name": "stderr",
     "output_type": "stream",
     "text": [
      "\n"
     ]
    }
   ],
   "source": [
    "years = [str(year) for year in range(2018, 2026)]\n",
    "months = [str(month) for month in range(1, 13)]\n",
    "\n",
    "for year, month in tqdm(list(product(years, months))):\n",
    "    get_article_data(year, month)\n",
    "    # print(year, month)"
   ]
  },
  {
   "cell_type": "code",
   "execution_count": null,
   "metadata": {},
   "outputs": [],
   "source": [
    "url = f\"https://api.nytimes.com/svc/archive/v1/2024/1.json?api-key={NYT_API_KEY}\"\n",
    "response = requests.get(url)\n",
    "\n",
    "articles = response.json()"
   ]
  },
  {
   "cell_type": "code",
   "execution_count": 17,
   "metadata": {},
   "outputs": [],
   "source": [
    "with open(\"articles.json\", \"w\") as f:\n",
    "    json.dump(articles['response']['docs'][0], f, indent=2)"
   ]
  },
  {
   "cell_type": "code",
   "execution_count": 15,
   "metadata": {},
   "outputs": [
    {
     "data": {
      "text/plain": [
       "dict_keys(['abstract', 'web_url', 'snippet', 'lead_paragraph', 'print_section', 'print_page', 'source', 'multimedia', 'headline', 'keywords', 'pub_date', 'document_type', 'news_desk', 'section_name', 'subsection_name', 'byline', 'type_of_material', '_id', 'word_count', 'uri'])"
      ]
     },
     "execution_count": 15,
     "metadata": {},
     "output_type": "execute_result"
    }
   ],
   "source": [
    "articles['response']['docs'][0].keys()"
   ]
  }
 ],
 "metadata": {
  "kernelspec": {
   "display_name": ".venv",
   "language": "python",
   "name": "python3"
  },
  "language_info": {
   "codemirror_mode": {
    "name": "ipython",
    "version": 3
   },
   "file_extension": ".py",
   "mimetype": "text/x-python",
   "name": "python",
   "nbconvert_exporter": "python",
   "pygments_lexer": "ipython3",
   "version": "3.12.3"
  }
 },
 "nbformat": 4,
 "nbformat_minor": 2
}
